{
 "cells": [
  {
   "cell_type": "markdown",
   "id": "db50a288-c5af-45f7-8a1d-4eda3a90002e",
   "metadata": {},
   "source": [
    "# kode kirim email yg dipakai"
   ]
  },
  {
   "cell_type": "code",
   "execution_count": null,
   "id": "cc3ade6d-d46f-4e12-8104-3d7e68f1f432",
   "metadata": {},
   "outputs": [],
   "source": [
    "import smtplib\n",
    "from email.mime.multipart import MIMEMultipart\n",
    "from email.mime.text import MIMEText\n",
    "from email.mime.base import MIMEBase\n",
    "from email import encoders\n",
    "\n",
    "fromaddr = \"ALAMAT PENGIRIM EMAIL\" #masukkan alamat email pengirim\n",
    "toaddr = \"ALAMAT PENERIMA EMAIL\" #masukkan alamat email penerima\n",
    "msg = MIMEMultipart()\n",
    "msg['From'] = fromaddr\n",
    "msg['To'] = toaddr\n",
    "msg['Subject'] = \"JUDUL PESAN\" #masukkan subject/judul\n",
    " \n",
    "body = \"ISI PESAN\" #masukkan isi pesan\n",
    "msg.attach(MIMEText(body, 'plain'))\n",
    "\n",
    "server = smtplib.SMTP('smtp.gmail.com', 587) #masukkan server dan port smtp\n",
    "server.starttls()\n",
    "server.login(fromaddr, \"PASSWORD PENGIRIM EMAIL\") #masukkan password pengirim\n",
    "text = msg.as_string()\n",
    "server.sendmail(fromaddr, toaddr, text)\n",
    "server.quit()\n",
    "\n",
    "# source: https://www.pythonindo.com/cara-mengirim-email-menggunakan-python/"
   ]
  },
  {
   "cell_type": "markdown",
   "id": "df4718a3-d2fd-476a-8630-825b39122d17",
   "metadata": {},
   "source": [
    "# Final Project - Basic Python"
   ]
  },
  {
   "cell_type": "code",
   "execution_count": 30,
   "id": "991d50bd-741c-4da6-a919-2b6ce9a1c47e",
   "metadata": {},
   "outputs": [
    {
     "name": "stdout",
     "output_type": "stream",
     "text": [
      "Halo aku Zender, salam kenal!, silahkan masukkan email pengirim\n"
     ]
    },
    {
     "name": "stdin",
     "output_type": "stream",
     "text": [
      "Email pengirim: senderkirim@gmail.com\n",
      "Password pengirim: 123senderkirim\n"
     ]
    },
    {
     "name": "stdout",
     "output_type": "stream",
     "text": [
      "File receiver_list.txt sudah dibuat!\n",
      "\n",
      "Selamat Datang senderkirim@gmail.com!\n",
      "------ Menu ------\n",
      "1. Daftar email\n",
      "2. Tambah email\n",
      "3. Kirim pesan\n",
      "4. Hapus daftar email\n",
      "5. Keluar\n"
     ]
    },
    {
     "name": "stdin",
     "output_type": "stream",
     "text": [
      "Pilih menu: 1\n"
     ]
    },
    {
     "name": "stdout",
     "output_type": "stream",
     "text": [
      "##################\n",
      "Daftar email:\n",
      "\n",
      "##################\n",
      "Selamat Datang senderkirim@gmail.com!\n",
      "------ Menu ------\n",
      "1. Daftar email\n",
      "2. Tambah email\n",
      "3. Kirim pesan\n",
      "4. Hapus daftar email\n",
      "5. Keluar\n"
     ]
    },
    {
     "name": "stdin",
     "output_type": "stream",
     "text": [
      "Pilih menu: 2\n"
     ]
    },
    {
     "name": "stdout",
     "output_type": "stream",
     "text": [
      "##################\n"
     ]
    },
    {
     "name": "stdin",
     "output_type": "stream",
     "text": [
      "Email penerima: giathobi@gmail.com\n"
     ]
    },
    {
     "name": "stdout",
     "output_type": "stream",
     "text": [
      "Email berhasil ditambahkan.\n",
      "\n",
      "##################\n",
      "Selamat Datang senderkirim@gmail.com!\n",
      "------ Menu ------\n",
      "1. Daftar email\n",
      "2. Tambah email\n",
      "3. Kirim pesan\n",
      "4. Hapus daftar email\n",
      "5. Keluar\n"
     ]
    },
    {
     "name": "stdin",
     "output_type": "stream",
     "text": [
      "Pilih menu: 1\n"
     ]
    },
    {
     "name": "stdout",
     "output_type": "stream",
     "text": [
      "##################\n",
      "Daftar email:\n",
      "1. giathobi@gmail.com\n",
      "\n",
      "##################\n",
      "Selamat Datang senderkirim@gmail.com!\n",
      "------ Menu ------\n",
      "1. Daftar email\n",
      "2. Tambah email\n",
      "3. Kirim pesan\n",
      "4. Hapus daftar email\n",
      "5. Keluar\n"
     ]
    },
    {
     "name": "stdin",
     "output_type": "stream",
     "text": [
      "Pilih menu: 3\n"
     ]
    },
    {
     "name": "stdout",
     "output_type": "stream",
     "text": [
      "##################\n"
     ]
    },
    {
     "name": "stdin",
     "output_type": "stream",
     "text": [
      "Masukkan subjek email: Halo\n",
      "Masukkan isi pesan: ini tugas akhir\n"
     ]
    },
    {
     "name": "stdout",
     "output_type": "stream",
     "text": [
      "Pesan berhasil dikirim\n",
      "\n",
      "##################\n",
      "Selamat Datang senderkirim@gmail.com!\n",
      "------ Menu ------\n",
      "1. Daftar email\n",
      "2. Tambah email\n",
      "3. Kirim pesan\n",
      "4. Hapus daftar email\n",
      "5. Keluar\n"
     ]
    },
    {
     "name": "stdin",
     "output_type": "stream",
     "text": [
      "Pilih menu: 4\n"
     ]
    },
    {
     "name": "stdout",
     "output_type": "stream",
     "text": [
      "##################\n",
      "Daftar email berhasil dihapus.\n",
      "\n",
      "##################\n",
      "Selamat Datang senderkirim@gmail.com!\n",
      "------ Menu ------\n",
      "1. Daftar email\n",
      "2. Tambah email\n",
      "3. Kirim pesan\n",
      "4. Hapus daftar email\n",
      "5. Keluar\n"
     ]
    },
    {
     "name": "stdin",
     "output_type": "stream",
     "text": [
      "Pilih menu: 1\n"
     ]
    },
    {
     "name": "stdout",
     "output_type": "stream",
     "text": [
      "##################\n",
      "Daftar email:\n",
      "\n",
      "##################\n",
      "Selamat Datang senderkirim@gmail.com!\n",
      "------ Menu ------\n",
      "1. Daftar email\n",
      "2. Tambah email\n",
      "3. Kirim pesan\n",
      "4. Hapus daftar email\n",
      "5. Keluar\n"
     ]
    },
    {
     "name": "stdin",
     "output_type": "stream",
     "text": [
      "Pilih menu: 5\n"
     ]
    },
    {
     "name": "stdout",
     "output_type": "stream",
     "text": [
      "##################\n",
      "Program selesai, sampai jumpa!\n"
     ]
    }
   ],
   "source": [
    "import smtplib\n",
    "from email.mime.multipart import MIMEMultipart\n",
    "from email.mime.text import MIMEText\n",
    "from email.mime.base import MIMEBase\n",
    "from email import encoders\n",
    "\n",
    "def tampilan_menu(nama):\n",
    "    print(\"Selamat Datang {}!\".format(nama))\n",
    "    print(\"------ Menu ------\")\n",
    "    print(\"1. Daftar email\")\n",
    "    print(\"2. Tambah email\")\n",
    "    print(\"3. Kirim pesan\")\n",
    "    print(\"4. Hapus daftar email\")\n",
    "    print(\"5. Keluar\")\n",
    "\n",
    "def daftar_email():\n",
    "    f = open(\"receiver_list.txt\", \"r\")\n",
    "    count = 0\n",
    "    while True:\n",
    "        line = f.readline()\n",
    "        count += 1\n",
    "        if not line:\n",
    "            break\n",
    "        print(str(count)+\". \"+line.strip())\n",
    "    f.close()\n",
    "\n",
    "def tambah_email(email):\n",
    "    f = open(\"receiver_list.txt\", \"a\")\n",
    "    f.write(email+\"\\n\")\n",
    "    f.close()\n",
    "    print(\"Email berhasil ditambahkan.\")\n",
    "    \n",
    "def kirim_email(kirim, k_sandi, subjek, pesan):\n",
    "    fromaddr = kirim #masukkan alamat email pengirim\n",
    "    f = open(\"receiver_list.txt\", \"r\")\n",
    "    while True:\n",
    "        line = f.readline()\n",
    "        if not line:\n",
    "            break\n",
    "        toaddr =  line.strip()#masukkan alamat email penerima\n",
    "        msg = MIMEMultipart() #objek untuk membuat pesan\n",
    "        msg['From'] = fromaddr\n",
    "        msg['To'] = toaddr\n",
    "        msg['Subject'] = subjek #masukkan subject/judul\n",
    " \n",
    "        body = pesan #masukkan isi pesan\n",
    "        msg.attach(MIMEText(body, 'plain'))\n",
    "\n",
    "        server = smtplib.SMTP('smtp.gmail.com', 587) #server dan port smtp\n",
    "        server.starttls()\n",
    "        server.login(fromaddr, k_sandi) #masukkan password pengirim\n",
    "        text = msg.as_string()\n",
    "        server.sendmail(fromaddr, toaddr, text)\n",
    "        server.quit()\n",
    "    f.close()\n",
    "    print(\"Pesan berhasil dikirim\")\n",
    "    \n",
    "# perkenalan\n",
    "print(\"Halo aku Zender, salam kenal!, silahkan masukkan email pengirim\")\n",
    "kirim = input(\"Email pengirim:\")\n",
    "k_sandi = input(\"Password pengirim:\")\n",
    "\n",
    "# membuat file\n",
    "f = open(\"receiver_list.txt\", \"w\")\n",
    "f.close()\n",
    "print(\"File receiver_list.txt sudah dibuat!\\n\")\n",
    "    \n",
    "while True:\n",
    "    #Tampilan menu\n",
    "    tampilan_menu(kirim)\n",
    "\n",
    "    #pilih menu\n",
    "    inp = input(\"Pilih menu:\")\n",
    "    print(\"##################\")\n",
    "    \n",
    "    #menu yg dipilih\n",
    "    if inp == '1':\n",
    "        print(\"Daftar email:\")\n",
    "        daftar_email()\n",
    "    elif inp == '2':\n",
    "        email = input(\"Email penerima:\")\n",
    "        tambah_email(email)\n",
    "    elif inp == '3':\n",
    "        subjek = input(\"Masukkan subjek email:\")\n",
    "        pesan = input(\"Masukkan isi pesan:\")\n",
    "        kirim_email(kirim, k_sandi, subjek, pesan)\n",
    "    elif inp == '4':\n",
    "        f = open(\"receiver_list.txt\", \"w\")\n",
    "        f.close()\n",
    "        print(\"Daftar email berhasil dihapus.\")\n",
    "    elif inp == '5':\n",
    "        print(\"Program selesai, sampai jumpa!\")\n",
    "        break\n",
    "    else:\n",
    "        print(\"Menu tidak tersedia\")\n",
    "    print(\"\\n##################\")"
   ]
  }
 ],
 "metadata": {
  "kernelspec": {
   "display_name": "Python 3",
   "language": "python",
   "name": "python3"
  },
  "language_info": {
   "codemirror_mode": {
    "name": "ipython",
    "version": 3
   },
   "file_extension": ".py",
   "mimetype": "text/x-python",
   "name": "python",
   "nbconvert_exporter": "python",
   "pygments_lexer": "ipython3",
   "version": "3.8.8"
  }
 },
 "nbformat": 4,
 "nbformat_minor": 5
}
